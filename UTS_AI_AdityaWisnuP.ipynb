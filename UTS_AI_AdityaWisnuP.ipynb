{
  "nbformat": 4,
  "nbformat_minor": 0,
  "metadata": {
    "colab": {
      "provenance": []
    },
    "kernelspec": {
      "name": "python3",
      "display_name": "Python 3"
    },
    "language_info": {
      "name": "python"
    }
  },
  "cells": [
    {
      "cell_type": "code",
      "source": [
        "class KnowledgeBase:\n",
        "    def __init__(self):\n",
        "        self.facts = []\n",
        "\n",
        "    def add_fact(self, fact):\n",
        "        self.facts.append(fact)\n",
        "\n",
        "    def get_related_people(self, person, relation):\n",
        "        related_people = []\n",
        "        for fact in self.facts:\n",
        "            if person == fact[0] and relation == fact[1]:\n",
        "                related_people.append(fact[2])\n",
        "        return related_people\n",
        "\n",
        "# Create a knowledge base and add some facts\n",
        "kb = KnowledgeBase()\n",
        "# A.\tOrang Tua\n",
        "kb.add_fact((\"Hadi\", \"orang tua dari\", \"Desi\"))\n",
        "kb.add_fact((\"Hadi\", \"orang tua dari\", \"Wahyu\"))\n",
        "kb.add_fact((\"Hadi\", \"orang tua dari\", \"Rina\"))\n",
        "kb.add_fact((\"Hadi\", \"orang tua dari\", \"Aditya\"))\n",
        "kb.add_fact((\"Retno\", \"orang tua dari\", \"Desi\"))\n",
        "kb.add_fact((\"Retno\", \"orang tua dari\", \"Wahyu\"))\n",
        "kb.add_fact((\"Retno\", \"orang tua dari\", \"Rina\"))\n",
        "kb.add_fact((\"Retno\", \"orang tua dari\", \"Aditya\"))\n",
        "kb.add_fact((\"Bayu\", \"orang tua dari\", \"Tari\"))\n",
        "kb.add_fact((\"Bayu\", \"orang tua dari\", \"Nurul\"))\n",
        "kb.add_fact((\"Bayu\", \"orang tua dari\", \"Yanto\"))\n",
        "kb.add_fact((\"Rina\", \"orang tua dari\", \"Hamzah\"))\n",
        "kb.add_fact((\"Aditya\", \"orang tua dari\", \"Eka\"))\n",
        "kb.add_fact((\"Aditya\", \"orang tua dari\", \"Mira\"))\n",
        "kb.add_fact((\"Aditya\", \"orang tua dari\", \"Bastian\"))\n",
        "kb.add_fact((\"Andi\", \"orang tua dari\", \"Rita\"))\n",
        "kb.add_fact((\"Ana\", \"orang tua dari\", \"Eka\"))\n",
        "kb.add_fact((\"Ana\", \"orang tua dari\", \"Mira\"))\n",
        "kb.add_fact((\"Ana\", \"orang tua dari\", \"Bastian\"))\n",
        "kb.add_fact((\"Wisnu\", \"orang tua dari\", \"wanda\"))\n",
        "kb.add_fact((\"Tari\", \"orang tua dari\", \"wanda\"))\n",
        "kb.add_fact((\"Nurul\", \"orang tua dari\", \"Aji\"))\n",
        "kb.add_fact((\"Nurul\", \"orang tua dari\", \"Gunawan\"))\n",
        "kb.add_fact((\"Mira\", \"orang tua dari\", \"Anggun\"))\n",
        "kb.add_fact((\"Mira\", \"orang tua dari\", \"Boy\"))\n",
        "\n",
        "# Query the knowledge base\n",
        "person = \"Hadi\"\n",
        "relation = \"orang tua dari\"\n",
        "related_people = kb.get_related_people(person, relation)\n",
        "\n",
        "if related_people:\n",
        "    print(f\"{person} {relation} {', '.join(related_people)}\")\n",
        "else:\n",
        "    print(f\"No information found about {person} {relation}\")\n"
      ],
      "metadata": {
        "colab": {
          "base_uri": "https://localhost:8080/"
        },
        "id": "n9Tz5kjDZ1ry",
        "outputId": "3111ca03-a939-40df-a33b-210a1f4a7379"
      },
      "execution_count": 10,
      "outputs": [
        {
          "output_type": "stream",
          "name": "stdout",
          "text": [
            "Hadi orang tua dari Desi, Wahyu, Rina, Aditya\n"
          ]
        }
      ]
    },
    {
      "cell_type": "code",
      "source": [
        "class KnowledgeBase:\n",
        "    def __init__(self):\n",
        "        self.facts = []\n",
        "\n",
        "    def add_fact(self, fact):\n",
        "        self.facts.append(fact)\n",
        "\n",
        "    def get_related_people(self, person, relation):\n",
        "        related_people = []\n",
        "        for fact in self.facts:\n",
        "            if person == fact[0] and relation == fact[1]:\n",
        "                related_people.append(fact[2])\n",
        "        return related_people\n",
        "\n",
        "# Create a knowledge base and add some facts\n",
        "kb = KnowledgeBase()\n",
        "#B.\tSaudara Laki2\n",
        "kb.add_fact((\"Wahyu\", \"saudara laki-laki dari\", \"Desi\"))\n",
        "kb.add_fact((\"Wahyu\", \"saudara laki-laki dari\", \"Rina\"))\n",
        "kb.add_fact((\"Wahyu\", \"saudara laki-laki dari\", \"Aditya\"))\n",
        "kb.add_fact((\"Aditya\", \"saudara laki-laki dari\", \"Desi\"))\n",
        "kb.add_fact((\"Aditya\", \"saudara laki-laki dari\", \"Rina\"))\n",
        "kb.add_fact((\"Aditya\", \"saudara laki-laki dari\", \"Wahyu\"))\n",
        "kb.add_fact((\"Yanto\", \"saudara laki-laki dari\", \"Tari\"))\n",
        "kb.add_fact((\"Yanto\", \"saudara laki-laki dari\", \"Nurul\"))\n",
        "kb.add_fact((\"Bastian\", \"saudara laki-laki dari\", \"Eka\"))\n",
        "kb.add_fact((\"Bastian\", \"saudara laki-laki dari\", \"Mira\"))\n",
        "kb.add_fact((\"Aji\", \"saudara laki-laki dari\", \"Gunawan\"))\n",
        "kb.add_fact((\"Gunawan\", \"saudara laki-laki dari\", \"Aji\"))\n",
        "kb.add_fact((\"Boy\", \"saudara laki-laki dari\", \"Anggun\"))\n",
        "# Query the knowledge base\n",
        "person = \"Wahyu\"\n",
        "relation = \"saudara laki-laki dari\"\n",
        "related_people = kb.get_related_people(person, relation)\n",
        "\n",
        "if related_people:\n",
        "    print(f\"{person} {relation} {', '.join(related_people)}\")\n",
        "else:\n",
        "    print(f\"No information found about {person} {relation}\")\n"
      ],
      "metadata": {
        "colab": {
          "base_uri": "https://localhost:8080/"
        },
        "id": "StzSF1aIa06d",
        "outputId": "d00f5129-1d8e-4c01-95ce-876d363063bf"
      },
      "execution_count": 11,
      "outputs": [
        {
          "output_type": "stream",
          "name": "stdout",
          "text": [
            "Wahyu saudara laki-laki dari Desi, Rina, Aditya\n"
          ]
        }
      ]
    },
    {
      "cell_type": "code",
      "source": [
        "class KnowledgeBase:\n",
        "    def __init__(self):\n",
        "        self.facts = []\n",
        "\n",
        "    def add_fact(self, fact):\n",
        "        self.facts.append(fact)\n",
        "\n",
        "    def get_related_people(self, person, relation):\n",
        "        related_people = []\n",
        "        for fact in self.facts:\n",
        "            if person == fact[0] and relation == fact[1]:\n",
        "                related_people.append(fact[2])\n",
        "        return related_people\n",
        "\n",
        "# Create a knowledge base and add some facts\n",
        "kb = KnowledgeBase()\n",
        "# saudara perempuan\n",
        "kb.add_fact((\"Desi\", \"saudara perempuan dari\", \"Hadi\"))\n",
        "kb.add_fact((\"Desi\", \"saudara perempuan dari\", \"Rina\"))\n",
        "kb.add_fact((\"Desi\", \"saudara perempuan dari\", \"Aditya\"))\n",
        "kb.add_fact((\"Rina\", \"saudara perempuan dari\", \"Desi\"))\n",
        "kb.add_fact((\"Rina\", \"saudara perempuan dari\", \"Wahyu\"))\n",
        "kb.add_fact((\"Rina\", \"saudara perempuan dari\", \"Aditya\"))\n",
        "kb.add_fact((\"Tari\", \"saudara perempuan dari\", \"Nurul\"))\n",
        "kb.add_fact((\"Tari\", \"saudara perempuan dari\", \"Yanto\"))\n",
        "kb.add_fact((\"Nurul\", \"saudara perempuan dari\", \"Tari\"))\n",
        "kb.add_fact((\"Nurul\", \"saudara perempuan dari\", \"Yanto\"))\n",
        "kb.add_fact((\"Eka\", \"saudara perempuan dari\", \"Mira\"))\n",
        "kb.add_fact((\"Eka\", \"saudara perempuan dari\", \"Bastian\"))\n",
        "kb.add_fact((\"Mira\", \"saudara perempuan dari\", \"Eka\"))\n",
        "kb.add_fact((\"Mira\", \"saudara perempuan dari\", \"Bastian\"))\n",
        "kb.add_fact((\"Anggun\", \"saudara perempuan dari\", \"Boy\"))\n",
        "# Query the knowledge base\n",
        "person = \"Desi\"\n",
        "relation = \"saudara perempuan dari\"\n",
        "related_people = kb.get_related_people(person, relation)\n",
        "\n",
        "if related_people:\n",
        "    print(f\"{person} {relation} {', '.join(related_people)}\")\n",
        "else:\n",
        "    print(f\"No information found about {person} {relation}\")\n"
      ],
      "metadata": {
        "colab": {
          "base_uri": "https://localhost:8080/"
        },
        "id": "bCtaT6LGblFu",
        "outputId": "d6336d7e-3487-4a0b-e61d-b386cc40d94a"
      },
      "execution_count": 12,
      "outputs": [
        {
          "output_type": "stream",
          "name": "stdout",
          "text": [
            "Desi saudara perempuan dari Hadi, Rina, Aditya\n"
          ]
        }
      ]
    },
    {
      "cell_type": "code",
      "source": [
        "class KnowledgeBase:\n",
        "    def __init__(self):\n",
        "        self.facts = []\n",
        "\n",
        "    def add_fact(self, fact):\n",
        "        self.facts.append(fact)\n",
        "\n",
        "    def get_related_people(self, person, relation):\n",
        "        related_people = []\n",
        "        for fact in self.facts:\n",
        "            if person == fact[0] and relation == fact[1]:\n",
        "                related_people.append(fact[2])\n",
        "        return related_people\n",
        "\n",
        "# Create a knowledge base and add some facts\n",
        "kb = KnowledgeBase()\n",
        "# Paman\n",
        "kb.add_fact((\"Bayu\", \"paman dari\", \"Hamzah\"))\n",
        "kb.add_fact((\"Bayu\", \"paman dari\", \"Eka\"))\n",
        "kb.add_fact((\"Bayu\", \"paman dari\", \"Mira\"))\n",
        "kb.add_fact((\"Bayu\", \"paman dari\", \"Bastian\"))\n",
        "kb.add_fact((\"Wahyu\", \"paman dari\", \"Tari\"))\n",
        "kb.add_fact((\"Wahyu\", \"paman dari\", \"Nurul\"))\n",
        "kb.add_fact((\"Wahyu\", \"paman dari\", \"Yanto\"))\n",
        "kb.add_fact((\"Wahyu\", \"paman dari\", \"Hamzah\"))\n",
        "kb.add_fact((\"Wahyu\", \"paman dari\", \"Eka\"))\n",
        "kb.add_fact((\"Wahyu\", \"paman dari\", \"Mira\"))\n",
        "kb.add_fact((\"Wahyu\", \"paman dari\", \"Bastian\"))\n",
        "kb.add_fact((\"Aditya\", \"paman dari\", \"Tari\"))\n",
        "kb.add_fact((\"Aditya\", \"paman dari\", \"Nurul\"))\n",
        "kb.add_fact((\"Aditya\", \"paman dari\", \"Yanto\"))\n",
        "kb.add_fact((\"Aditya\", \"paman dari\", \"Hamzah\"))\n",
        "kb.add_fact((\"Yanto\", \"paman dari\", \"Wanda\"))\n",
        "kb.add_fact((\"Yanto\", \"paman dari\", \"Aji\"))\n",
        "kb.add_fact((\"Yanto\", \"paman dari\", \"Gunawan\"))\n",
        "kb.add_fact((\"Yanto\", \"paman dari\", \"Anggun\"))\n",
        "kb.add_fact((\"Yanto\", \"paman dari\", \"Boy\"))\n",
        "kb.add_fact((\"Hamzah\", \"paman dari\", \"Wanda\"))\n",
        "kb.add_fact((\"Hamzah\", \"paman dari\", \"Aji\"))\n",
        "kb.add_fact((\"Hamzah\", \"paman dari\", \"Gunawan\"))\n",
        "kb.add_fact((\"Hamzah\", \"paman dari\", \"Anggun\"))\n",
        "kb.add_fact((\"Hamzah\", \"paman dari\", \"Boy\"))\n",
        "kb.add_fact((\"Bastian\", \"paman dari\", \"Wanda\"))\n",
        "kb.add_fact((\"Bastian\", \"paman dari\", \"Aji\"))\n",
        "kb.add_fact((\"Bastian\", \"paman dari\", \"Gunawan\"))\n",
        "kb.add_fact((\"Bastian\", \"paman dari\", \"Anggun\"))\n",
        "kb.add_fact((\"Bastian\", \"paman dari\", \"Boy\"))\n",
        "kb.add_fact((\"Wisnu\", \"paman dari\", \"Aji\"))\n",
        "kb.add_fact((\"Wisnu\", \"paman dari\", \"Gunawan\"))\n",
        "kb.add_fact((\"Wisnu\", \"paman dari\", \"Anggun\"))\n",
        "kb.add_fact((\"Wisnu\", \"paman dari\", \"Boy\"))\n",
        "# Query the knowledge base\n",
        "person = \"Bayu\"\n",
        "relation = \"paman dari\"\n",
        "related_people = kb.get_related_people(person, relation)\n",
        "\n",
        "if related_people:\n",
        "    print(f\"{person} {relation} {', '.join(related_people)}\")\n",
        "else:\n",
        "    print(f\"No information found about {person} {relation}\")\n"
      ],
      "metadata": {
        "colab": {
          "base_uri": "https://localhost:8080/"
        },
        "id": "H3D2GcP-cEBG",
        "outputId": "53c0c4d7-928e-4c1c-ebbf-9dfd5cd3bed2"
      },
      "execution_count": 13,
      "outputs": [
        {
          "output_type": "stream",
          "name": "stdout",
          "text": [
            "Bayu paman dari Hamzah, Eka, Mira, Bastian\n"
          ]
        }
      ]
    },
    {
      "cell_type": "code",
      "source": [
        "class KnowledgeBase:\n",
        "    def __init__(self):\n",
        "        self.facts = []\n",
        "\n",
        "    def add_fact(self, fact):\n",
        "        self.facts.append(fact)\n",
        "\n",
        "    def get_related_people(self, person, relation):\n",
        "        related_people = []\n",
        "        for fact in self.facts:\n",
        "            if person == fact[0] and relation == fact[1]:\n",
        "                related_people.append(fact[2])\n",
        "        return related_people\n",
        "\n",
        "# Create a knowledge base and add some facts\n",
        "kb = KnowledgeBase()\n",
        "# Bibi\n",
        "kb.add_fact((\"Desi\", \"bibi dari\", \"Hamzah\"))\n",
        "kb.add_fact((\"Desi\", \"bibi dari\", \"Eka\"))\n",
        "kb.add_fact((\"Desi\", \"bibi dari\", \"Mira\"))\n",
        "kb.add_fact((\"Desi\", \"bibi dari\", \"Bastian\"))\n",
        "kb.add_fact((\"Rina\", \"bibi dari\", \"Tari\"))\n",
        "kb.add_fact((\"Rina\", \"bibi dari\", \"Nurul\"))\n",
        "kb.add_fact((\"Rina\", \"bibi dari\", \"Yanto\"))\n",
        "kb.add_fact((\"Rina\", \"bibi dari\", \"Eka\"))\n",
        "kb.add_fact((\"Rina\", \"bibi dari\", \"Mira\"))\n",
        "kb.add_fact((\"Rina\", \"bibi dari\", \"Bastian\"))\n",
        "kb.add_fact((\"Ana\", \"bibi dari\", \"Tari\"))\n",
        "kb.add_fact((\"Ana\", \"bibi dari\", \"Nurul\"))\n",
        "kb.add_fact((\"Ana\", \"bibi dari\", \"Yanto\"))\n",
        "kb.add_fact((\"Nurul\", \"bibi dari\", \"Wanda\"))\n",
        "kb.add_fact((\"Nurul\", \"bibi dari\", \"Anggun\"))\n",
        "kb.add_fact((\"Nurul\", \"bibi dari\", \"Boy\"))\n",
        "kb.add_fact((\"Eka\", \"bibi dari\", \"Wanda\"))\n",
        "kb.add_fact((\"Eka\", \"bibi dari\", \"Aji\"))\n",
        "kb.add_fact((\"Eka\", \"bibi dari\", \"Gunawan\"))\n",
        "kb.add_fact((\"Mira\", \"bibi dari\", \"Wanda\"))\n",
        "kb.add_fact((\"Mira\", \"bibi dari\", \"Aji\"))\n",
        "kb.add_fact((\"Mira\", \"bibi dari\", \"Gunawan\"))\n",
        "# Query the knowledge base\n",
        "person = \"Desi\"\n",
        "relation = \"bibi dari\"\n",
        "related_people = kb.get_related_people(person, relation)\n",
        "\n",
        "if related_people:\n",
        "    print(f\"{person} {relation} {', '.join(related_people)}\")\n",
        "else:\n",
        "    print(f\"No information found about {person} {relation}\")\n"
      ],
      "metadata": {
        "colab": {
          "base_uri": "https://localhost:8080/"
        },
        "id": "oJ8R3Kf3cdfk",
        "outputId": "41192bea-69bf-4b16-96be-80a23bb9a9ee"
      },
      "execution_count": 14,
      "outputs": [
        {
          "output_type": "stream",
          "name": "stdout",
          "text": [
            "Desi bibi dari Hamzah, Eka, Mira, Bastian\n"
          ]
        }
      ]
    },
    {
      "cell_type": "code",
      "source": [
        "class KnowledgeBase:\n",
        "    def __init__(self):\n",
        "        self.facts = []\n",
        "\n",
        "    def add_fact(self, fact):\n",
        "        self.facts.append(fact)\n",
        "\n",
        "    def get_related_people(self, person, relation):\n",
        "        related_people = []\n",
        "        for fact in self.facts:\n",
        "            if person == fact[0] and relation == fact[1]:\n",
        "                related_people.append(fact[2])\n",
        "        return related_people\n",
        "\n",
        "# Create a knowledge base and add some facts\n",
        "kb = KnowledgeBase()\n",
        "#Kakek\n",
        "kb.add_fact((\"Hadi\", \"kakek dari\", \"Tari\"))\n",
        "kb.add_fact((\"Hadi\", \"kakek dari\", \"Nurul\"))\n",
        "kb.add_fact((\"Hadi\", \"kakek dari\", \"Yanto\"))\n",
        "kb.add_fact((\"Hadi\", \"kakek dari\", \"Hamzah\"))\n",
        "kb.add_fact((\"Hadi\", \"kakek dari\", \"Eka\"))\n",
        "kb.add_fact((\"Hadi\", \"kakek dari\", \"Mira\"))\n",
        "kb.add_fact((\"Hadi\", \"kakek dari\", \"Bastian\"))\n",
        "kb.add_fact((\"Bayu\", \"kakek dari\", \"Wanda\"))\n",
        "kb.add_fact((\"Bayu\", \"kakek dari\", \"Aji\"))\n",
        "kb.add_fact((\"Bayu\", \"kakek dari\", \"Gunawan\"))\n",
        "kb.add_fact((\"Aditya\", \"kakek dari\", \"Anggun\"))\n",
        "kb.add_fact((\"Aditya\", \"kakek dari\", \"Boy\"))\n",
        "# Query the knowledge base\n",
        "person = \"Hadi\"\n",
        "relation = \"kakek dari\"\n",
        "related_people = kb.get_related_people(person, relation)\n",
        "\n",
        "if related_people:\n",
        "    print(f\"{person} {relation} {', '.join(related_people)}\")\n",
        "else:\n",
        "    print(f\"No information found about {person} {relation}\")\n"
      ],
      "metadata": {
        "colab": {
          "base_uri": "https://localhost:8080/"
        },
        "id": "4BcHQ5wIcqM2",
        "outputId": "3b9d4c41-3c61-4b81-a004-5d03e74518a9"
      },
      "execution_count": 15,
      "outputs": [
        {
          "output_type": "stream",
          "name": "stdout",
          "text": [
            "Hadi kakek dari Tari, Nurul, Yanto, Hamzah, Eka, Mira, Bastian\n"
          ]
        }
      ]
    },
    {
      "cell_type": "code",
      "source": [
        "class KnowledgeBase:\n",
        "    def __init__(self):\n",
        "        self.facts = []\n",
        "\n",
        "    def add_fact(self, fact):\n",
        "        self.facts.append(fact)\n",
        "\n",
        "    def get_related_people(self, person, relation):\n",
        "        related_people = []\n",
        "        for fact in self.facts:\n",
        "            if person == fact[0] and relation == fact[1]:\n",
        "                related_people.append(fact[2])\n",
        "        return related_people\n",
        "\n",
        "# Create a knowledge base and add some facts\n",
        "kb = KnowledgeBase()\n",
        "# nenek\n",
        "kb.add_fact((\"Retno\", \"nenek dari\", \"Tari\"))\n",
        "kb.add_fact((\"Retno\", \"nenek dari\", \"Nurul\"))\n",
        "kb.add_fact((\"Retno\", \"nenek dari\", \"Yanto\"))\n",
        "kb.add_fact((\"Retno\", \"nenek dari\", \"Hamzah\"))\n",
        "kb.add_fact((\"Retno\", \"nenek dari\", \"Eka\"))\n",
        "kb.add_fact((\"Retno\", \"nenek dari\", \"Mira\"))\n",
        "kb.add_fact((\"Retno\", \"nenek dari\", \"Bastian\"))\n",
        "kb.add_fact((\"Desi\", \"nenek dari\", \"Wanda\"))\n",
        "kb.add_fact((\"Desi\", \"nenek dari\", \"Aji\"))\n",
        "kb.add_fact((\"Desi\", \"nenek dari\", \"Gunawan\"))\n",
        "kb.add_fact((\"Ana\", \"nenek dari\", \"Anggun\"))\n",
        "kb.add_fact((\"Ana\", \"nenek dari\", \"Boy\"))\n",
        "# Query the knowledge base\n",
        "person = \"Retno\"\n",
        "relation = \"nenek dari\"\n",
        "related_people = kb.get_related_people(person, relation)\n",
        "\n",
        "if related_people:\n",
        "    print(f\"{person} {relation} {', '.join(related_people)}\")\n",
        "else:\n",
        "    print(f\"No information found about {person} {relation}\")\n"
      ],
      "metadata": {
        "colab": {
          "base_uri": "https://localhost:8080/"
        },
        "id": "a3Tushx6c3Yv",
        "outputId": "7968793a-d624-4d28-caab-66f0f736965a"
      },
      "execution_count": 16,
      "outputs": [
        {
          "output_type": "stream",
          "name": "stdout",
          "text": [
            "Retno nenek dari Tari, Nurul, Yanto, Hamzah, Eka, Mira, Bastian\n"
          ]
        }
      ]
    },
    {
      "cell_type": "code",
      "source": [
        "class KnowledgeBase:\n",
        "    def __init__(self):\n",
        "        self.facts = []\n",
        "\n",
        "    def add_fact(self, fact):\n",
        "        self.facts.append(fact)\n",
        "\n",
        "    def get_related_people(self, person, relation):\n",
        "        related_people = []\n",
        "        for fact in self.facts:\n",
        "            if person == fact[0] and relation == fact[1]:\n",
        "                related_people.append(fact[2])\n",
        "        return related_people\n",
        "\n",
        "# Create a knowledge base and add some facts\n",
        "kb = KnowledgeBase()\n",
        "# sepupu\n",
        "kb.add_fact((\"Tari\", \"sepupu dari\", \"Hamzah\"))\n",
        "kb.add_fact((\"Tari\", \"sepupu dari\", \"Eka\"))\n",
        "kb.add_fact((\"Tari\", \"sepupu dari\", \"Mira\"))\n",
        "kb.add_fact((\"Tari\", \"sepupu dari\", \"Bastian\"))\n",
        "kb.add_fact((\"Nurul\", \"sepupu dari\", \"Hamzah\"))\n",
        "kb.add_fact((\"Nurul\", \"sepupu dari\", \"Eka\"))\n",
        "kb.add_fact((\"Nurul\", \"sepupu dari\", \"Mira\"))\n",
        "kb.add_fact((\"Nurul\", \"sepupu dari\", \"Bastian\"))\n",
        "kb.add_fact((\"Yanto\", \"sepupu dari\", \"Hamzah\"))\n",
        "kb.add_fact((\"Yanto\", \"sepupu dari\", \"Eka\"))\n",
        "kb.add_fact((\"Yanto\", \"sepupu dari\", \"Mira\"))\n",
        "kb.add_fact((\"Yanto\", \"sepupu dari\", \"Bastian\"))\n",
        "kb.add_fact((\"Hamzah\", \"sepupu dari\", \"Tari\"))\n",
        "kb.add_fact((\"Hamzah\", \"sepupu dari\", \"Nurul\"))\n",
        "kb.add_fact((\"Hamzah\", \"sepupu dari\", \"Yanto\"))\n",
        "kb.add_fact((\"Hamzah\", \"sepupu dari\", \"Eka\"))\n",
        "kb.add_fact((\"Hamzah\", \"sepupu dari\", \"Mira\"))\n",
        "kb.add_fact((\"Hamzah\", \"sepupu dari\", \"Bastian\"))\n",
        "kb.add_fact((\"Eka\", \"sepupu dari\", \"Tari\"))\n",
        "kb.add_fact((\"Eka\", \"sepupu dari\", \"Nurul\"))\n",
        "kb.add_fact((\"Eka\", \"sepupu dari\", \"Yanto\"))\n",
        "kb.add_fact((\"Mira\", \"sepupu dari\", \"Tari\"))\n",
        "kb.add_fact((\"Mira\", \"sepupu dari\", \"Nurul\"))\n",
        "kb.add_fact((\"Mira\", \"sepupu dari\", \"Yanto\"))\n",
        "kb.add_fact((\"Bastian\", \"sepupu dari\", \"Tari\"))\n",
        "kb.add_fact((\"Bastian\", \"sepupu dari\", \"Nurul\"))\n",
        "kb.add_fact((\"Bastian\", \"sepupu dari\", \"Yanto\"))\n",
        "kb.add_fact((\"Wanda\", \"sepupu dari\", \"Aji\"))\n",
        "kb.add_fact((\"Wanda\", \"sepupu dari\", \"Gunawan\"))\n",
        "kb.add_fact((\"Wanda\", \"sepupu dari\", \"Anggun\"))\n",
        "kb.add_fact((\"Wanda\", \"sepupu dari\", \"Boy\"))\n",
        "kb.add_fact((\"Aji\", \"sepupu dari\", \"Wanda\"))\n",
        "kb.add_fact((\"Aji\", \"sepupu dari\", \"Gunawan\"))\n",
        "kb.add_fact((\"Aji\", \"sepupu dari\", \"Anggun\"))\n",
        "kb.add_fact((\"Aji\", \"sepupu dari\", \"Boy\"))\n",
        "kb.add_fact((\"Gunawan\", \"sepupu dari\", \"Wanda\"))\n",
        "kb.add_fact((\"Gunawan\", \"sepupu dari\", \"Aji\"))\n",
        "kb.add_fact((\"Gunawan\", \"sepupu dari\", \"Anggun\"))\n",
        "kb.add_fact((\"Gunawan\", \"sepupu dari\", \"Boy\"))\n",
        "kb.add_fact((\"Anggun\", \"sepupu dari\", \"Wanda\"))\n",
        "kb.add_fact((\"Anggun\", \"sepupu dari\", \"Aji\"))\n",
        "kb.add_fact((\"Anggun\", \"sepupu dari\", \"Gunawan\"))\n",
        "kb.add_fact((\"Anggun\", \"sepupu dari\", \"Boy\"))\n",
        "kb.add_fact((\"Boy\", \"sepupu dari\", \"Wanda\"))\n",
        "kb.add_fact((\"Boy\", \"sepupu dari\", \"Aji\"))\n",
        "kb.add_fact((\"Boy\", \"sepupu dari\", \"Gunawan\"))\n",
        "kb.add_fact((\"Boy\", \"sepupu dari\", \"Anggun\"))\n",
        "# Query the knowledge base\n",
        "person = \"Tari\"\n",
        "relation = \"sepupu dari\"\n",
        "related_people = kb.get_related_people(person, relation)\n",
        "\n",
        "if related_people:\n",
        "    print(f\"{person} {relation} {', '.join(related_people)}\")\n",
        "else:\n",
        "    print(f\"No information found about {person} {relation}\")\n"
      ],
      "metadata": {
        "colab": {
          "base_uri": "https://localhost:8080/"
        },
        "id": "nTnTKDIfdENh",
        "outputId": "7702d0ad-8bc3-4c80-f4dc-b234e8455aee"
      },
      "execution_count": 17,
      "outputs": [
        {
          "output_type": "stream",
          "name": "stdout",
          "text": [
            "Tari sepupu dari Hamzah, Eka, Mira, Bastian\n"
          ]
        }
      ]
    }
  ]
}